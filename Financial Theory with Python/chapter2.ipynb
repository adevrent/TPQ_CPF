{
 "cells": [
  {
   "cell_type": "code",
   "execution_count": 1,
   "metadata": {},
   "outputs": [
    {
     "name": "stdout",
     "output_type": "stream",
     "text": [
      "Payoff vector : (-10, 12)\n",
      "Net return: 2\n",
      "Final rate of return of our investment at t=1 : 0.2\n"
     ]
    }
   ],
   "source": [
    "# Calculating return\n",
    "c0 = -10  # cash outflow at t=0 is -10, meaning we invested 10.\n",
    "c1 = 12  # at t=1 we have a cash flow of 12 from our investment.\n",
    "\n",
    "c = (c0, c1)  # payoff vector of the investment at t=0 and t=1, respectively.\n",
    "\n",
    "R = c[0] + c[1]  # Net return in dollars.\n",
    "r = R / abs(c[0])  # Final rate of return is the sum of all cash flows (net return) divided by absolute value of the cash outflow at t=0.\n",
    "\n",
    "print(\"Payoff vector :\", c)\n",
    "print(\"Net return:\", R)\n",
    "print(\"Final rate of return of our investment at t=1 :\", r)"
   ]
  },
  {
   "cell_type": "markdown",
   "metadata": {},
   "source": [
    "## Present Value and Discounting ##"
   ]
  },
  {
   "cell_type": "markdown",
   "metadata": {},
   "source": [
    "Discounting can be defined as a function $D$ which maps a cash flow in one year in the future $c_1$ to an appropriate present value today. \\\n",
    "$D(c_1) = \\large\\frac{c_1}{1 + i} = c_0 $ \\\n",
    "\\\n",
    "and therefore, \\\n",
    "\\\n",
    "$c_1 = c_0(1+i) \\iff c_0 = \\large\\frac{c_1}{1 + i}$\n",
    "\\\n",
    "\\\n",
    "where $i$ is the interest rate."
   ]
  },
  {
   "cell_type": "code",
   "execution_count": 2,
   "metadata": {},
   "outputs": [],
   "source": [
    "c1 = 11  # cash flow in one year\n",
    "i = 0.1  # interest rate\n",
    "\n",
    "def D(c1, i):\n",
    "    \"\"\" Discounts cash flow in one year in the future to a present value today.\n",
    "\n",
    "    Args:\n",
    "        c1 (float): cash flow in one year\n",
    "        i (float): interest rate\n",
    "\n",
    "    Returns:\n",
    "        c0 (float): present value of the future cash flow c1\n",
    "    \"\"\"\n",
    "    c0 = c1/(1+i)\n",
    "    return c0"
   ]
  },
  {
   "cell_type": "code",
   "execution_count": 3,
   "metadata": {},
   "outputs": [
    {
     "data": {
      "text/plain": [
       "10.0"
      ]
     },
     "execution_count": 3,
     "metadata": {},
     "output_type": "execute_result"
    }
   ],
   "source": [
    "D(c1, i)  # present value of a cash flow of 11 is 10."
   ]
  },
  {
   "cell_type": "markdown",
   "metadata": {},
   "source": [
    "## Net Present Value ##"
   ]
  },
  {
   "cell_type": "markdown",
   "metadata": {},
   "source": [
    "Net Present Value (NPV) is equal to sum of the present value of all cash flows.\n",
    "\n",
    "$NPV(c) = c_0 + D(c_1)$ \\\n",
    "\\\n",
    "where \\\n",
    "\\\n",
    "$c$: vector of all cash flows. In our two-state economy it is $c = (c_0, c_1)$ \\\n",
    "$D(c_1)$: Discounted present value of the cash flow at $t=1$"
   ]
  },
  {
   "cell_type": "markdown",
   "metadata": {},
   "source": [
    "If the Net Present Value (NPV) of the cash flows of a project is **positive**, then \\\n",
    "that project should be conducted. However if NPV is negative, then it should **not** \\\n",
    "be conducted because the money would be better in a deposit earning interest $i$ ."
   ]
  },
  {
   "cell_type": "code",
   "execution_count": 4,
   "metadata": {},
   "outputs": [],
   "source": [
    "def NPV(c, i):\n",
    "    \"\"\"Calculates the net present value of a cash flow vector in a two-state economy.\n",
    "\n",
    "    Args:\n",
    "        c (tuple or list or ndarray): cash flow vector\n",
    "        i (float): interest rate\n",
    "\n",
    "    Returns:\n",
    "        npv (float): Net present value of all cash flows\n",
    "    \"\"\"\n",
    "    npv = c[0] + D(c[1], i)\n",
    "    \n",
    "    if npv >= 0:\n",
    "        print(\"NPV is\", round(npv, 2), \"and positive, so the project should be conducted.\")\n",
    "    else:\n",
    "        print(\"NPV is\", round(npv, 2), \"and negative, so the project should NOT be conducted.\")\n",
    "    return npv"
   ]
  },
  {
   "cell_type": "code",
   "execution_count": 5,
   "metadata": {},
   "outputs": [
    {
     "name": "stdout",
     "output_type": "stream",
     "text": [
      "NPV is 0.5 and positive, so the project should be conducted.\n"
     ]
    },
    {
     "data": {
      "text/plain": [
       "0.4999999999999982"
      ]
     },
     "execution_count": 5,
     "metadata": {},
     "output_type": "execute_result"
    }
   ],
   "source": [
    "i = 0.1\n",
    "cA = (-10.5, 12.1)  # cash flow for project A\n",
    "cB = (-10.5, 11)  # cash flow for project B\n",
    "\n",
    "NPV(cA, i)"
   ]
  },
  {
   "cell_type": "code",
   "execution_count": 6,
   "metadata": {},
   "outputs": [
    {
     "name": "stdout",
     "output_type": "stream",
     "text": [
      "NPV is -0.5 and negative, so the project should NOT be conducted.\n"
     ]
    },
    {
     "data": {
      "text/plain": [
       "-0.5"
      ]
     },
     "execution_count": 6,
     "metadata": {},
     "output_type": "execute_result"
    }
   ],
   "source": [
    "NPV(cB, i)"
   ]
  },
  {
   "cell_type": "markdown",
   "metadata": {},
   "source": [
    "## Uncertainty ##"
   ]
  },
  {
   "cell_type": "markdown",
   "metadata": {},
   "source": [
    "If we add uncertainty to cash flows, let's say the future cash flow of $c_1$ has two possible states: **up** state or **down** state. \\\n",
    "Then, the cash flow $c_1$ at $t=1$ becomes a vector where it can take two values: $c_1^u$ if up state happens or $c_1^d$ if down state happens. \\\n",
    "\\\n",
    "$c_1 = \\large(c_1^u, c_1^d)$"
   ]
  },
  {
   "cell_type": "markdown",
   "metadata": {},
   "source": [
    "Example: consider an investment project where the investment at $t=0$ is a cash flow of $c_0 = -10$ and \\\n",
    "vector of possible cash flows at $t=1$ is $c_1 = (20, 5)^T$ where the superscript $T$ means the vector $c_1$ is a **column** vector. \\\n",
    "\\\n",
    "**Important Note:** 1-dimensional ndarray objects do not distinguish between row or column vector !! (no need to transpose for 1d arrays)"
   ]
  },
  {
   "cell_type": "code",
   "execution_count": 7,
   "metadata": {},
   "outputs": [
    {
     "name": "stdout",
     "output_type": "stream",
     "text": [
      "(-10, array([20,  5]))\n"
     ]
    }
   ],
   "source": [
    "import numpy as np\n",
    "\n",
    "c0 = -10  # initial investment as the negative cashflow at t=0\n",
    "c1 = np.array((20, 5))  # vector of possible cash flows at t=1. 1-dimensional ndarray objects do not distinguish between row or column vector.\n",
    "\n",
    "c = (c0, c1)\n",
    "print(c)"
   ]
  },
  {
   "cell_type": "markdown",
   "metadata": {},
   "source": [
    "## Financial Assets ##"
   ]
  },
  {
   "cell_type": "markdown",
   "metadata": {},
   "source": [
    "Price process of a financial asset in a two-state economy can be defined as: \\\n",
    "\\\n",
    "$S = (S_0, S_1)$ \\\n",
    "\\\n",
    "where \\\n",
    "\\\n",
    "$S:$ Price process vector of the asset $S$ \\\n",
    "$S_0:$ Price of the asset at $t=0$, which is a real number (float).\\\n",
    "$S_1:$ Future price of the asset at $t=1$, which is a vector consisting of two possible states $S_1^u$ and $S_1^d$. $\\rightarrow$ $S_1 = (S_1^u, S_1^d)$"
   ]
  },
  {
   "cell_type": "markdown",
   "metadata": {},
   "source": [
    "## Probability ##"
   ]
  },
  {
   "cell_type": "markdown",
   "metadata": {},
   "source": [
    "Fixing a probability $p$ for a single state $c_1^u$ means we have a fully specified probability measure in our two-state economy \\\n",
    "(with probability $p$ we have the **up** state and with probability $1-p$ we have the **down** state) \\\n",
    "and this model economy is called *economy under risk*. On the contrary, an economic model that does not have a fully specified \\\n",
    "probability measure is often called *economy under ambiguity*."
   ]
  },
  {
   "cell_type": "code",
   "execution_count": 8,
   "metadata": {},
   "outputs": [
    {
     "name": "stdout",
     "output_type": "stream",
     "text": [
      "[0.4 0.6]\n",
      "<class 'numpy.ndarray'>\n"
     ]
    }
   ],
   "source": [
    "p = 0.4\n",
    "P = np.array((p, 1-p))  # Probability array for all states (in our case 2 states)\n",
    "print(P)\n",
    "print(type(P))"
   ]
  },
  {
   "cell_type": "markdown",
   "metadata": {},
   "source": [
    "## Expectation ##"
   ]
  },
  {
   "cell_type": "markdown",
   "metadata": {},
   "source": [
    "Expected value in a future state, in our model at $t=1$, is equal to probability weighted averages of the elements of vector $S_1:$ the asset price at $t=1$. \\\n",
    "\\\n",
    "let the price vector at $t=1:$\\\n",
    "$S_1 = (S_1^u, S_1^d)$ \\\n",
    "\\\n",
    "and the probability vector for $t=1:$\\\n",
    "$P = (p^u, p^d)$ \\\n",
    "\\\n",
    "then the expected value of the asset $S$ at time $t=1:$ \\\n",
    "$E[S_1] = \\begin{bmatrix} S_1^u \\\\ S_1^d \\end{bmatrix} * \\begin{bmatrix} p^u \\\\ p^d \\end{bmatrix} = S_1^u p^u + S_1^d p^d $"
   ]
  },
  {
   "cell_type": "code",
   "execution_count": 9,
   "metadata": {},
   "outputs": [
    {
     "data": {
      "text/plain": [
       "11.0"
      ]
     },
     "execution_count": 9,
     "metadata": {},
     "output_type": "execute_result"
    }
   ],
   "source": [
    "P = np.array((0.4, 0.6))  # Probability vector for t=1\n",
    "S0 = 10  # price of the asset S at t=0\n",
    "S1 = np.array((20, 5))  # Price vector for the asset S at t=1\n",
    "\n",
    "def ExpectedValue(S1, P):\n",
    "    assert S1.shape == P.shape\n",
    "    return np.dot(S1, P)\n",
    "\n",
    "ExpectedValue(S1, P)  # 0.4*20 + 0.6*5 = 11"
   ]
  },
  {
   "cell_type": "markdown",
   "metadata": {},
   "source": [
    "## Expected Return ##"
   ]
  },
  {
   "cell_type": "code",
   "execution_count": 10,
   "metadata": {},
   "outputs": [
    {
     "data": {
      "text/plain": [
       "1.0"
      ]
     },
     "execution_count": 10,
     "metadata": {},
     "output_type": "execute_result"
    }
   ],
   "source": [
    "def ExpectedReturn(S0, S1, P):\n",
    "    assert S1.shape == P.shape\n",
    "    return np.dot(S1, P) - S0\n",
    "\n",
    "ExpectedReturn(S0, S1, P)  # Expected return is 1"
   ]
  },
  {
   "cell_type": "markdown",
   "metadata": {},
   "source": [
    "## Expected Rate of Return ##"
   ]
  },
  {
   "cell_type": "markdown",
   "metadata": {},
   "source": [
    "Expected **rate** of return is usually symbolized by $\\mu:$ \\\n",
    "\\\n",
    "$\\mu = E[r] = \\large\\frac{E[R]}{S_0}$  where, \\\n",
    "\\\n",
    "$E[R]:$ Expected return \\\n",
    "$E[r]:$ Expected **rate** of return \\\n",
    "$S_0:$ price of the asset $S$ at $t=0$"
   ]
  },
  {
   "cell_type": "code",
   "execution_count": 11,
   "metadata": {},
   "outputs": [
    {
     "data": {
      "text/plain": [
       "0.1"
      ]
     },
     "execution_count": 11,
     "metadata": {},
     "output_type": "execute_result"
    }
   ],
   "source": [
    "def mu(S0, S1, P):\n",
    "    assert S1.shape == P.shape\n",
    "    return ExpectedReturn(S0, S1, P) / S0\n",
    "\n",
    "mu(S0, S1, P)"
   ]
  },
  {
   "cell_type": "markdown",
   "metadata": {},
   "source": [
    "## Volatility ##"
   ]
  },
  {
   "cell_type": "markdown",
   "metadata": {},
   "source": [
    "let $r:$ rate of return of a financial asset. According to our two-state economy model, the rate of return $r$ is a random variable \\\n",
    "whose value depends on if the up state or down state materializes. Previously we've shown that expected value of the rate of return \\\n",
    "is $E[r] = \\mu$ . Therefore, variance of the random variable $r$ is equal to: \\\n",
    "\\\n",
    "$var(r) = E[(r - \\mu)^2]$ \\\n",
    "\\\n",
    "and therefore volatility is\\\n",
    "\\\n",
    "$\\sigma_r = \\sqrt{E[(r - \\mu)^2]}$\n"
   ]
  },
  {
   "cell_type": "code",
   "execution_count": 12,
   "metadata": {},
   "outputs": [
    {
     "data": {
      "text/plain": [
       "0.7348469228349535"
      ]
     },
     "execution_count": 12,
     "metadata": {},
     "output_type": "execute_result"
    }
   ],
   "source": [
    "P = np.array((0.4, 0.6))  # Probability vector for t=1\n",
    "S0 = 10  # price of the asset S at t=0\n",
    "S1 = np.array((20, 5))  # Price vector for the asset S at t=1\n",
    "\n",
    "def sigma(S0, S1, P):\n",
    "    R_array = S1 - S0\n",
    "    r_array = R_array / S0\n",
    "    mu_r = mu(S0, S1, P)\n",
    "    temp = (r_array - mu_r)**2\n",
    "    \n",
    "    varr = np.dot(temp, P)\n",
    "    volr = np.sqrt(varr)\n",
    "    \n",
    "    return volr\n",
    "\n",
    "sigma(S0, S1, P)"
   ]
  },
  {
   "cell_type": "markdown",
   "metadata": {},
   "source": [
    "## Contingent Claims ##"
   ]
  },
  {
   "cell_type": "code",
   "execution_count": 13,
   "metadata": {},
   "outputs": [
    {
     "data": {
      "text/plain": [
       "array([ 0,  1,  2,  3,  4,  5,  6,  7,  8,  9, 10, 11, 12, 13, 14, 15, 16,\n",
       "       17, 18, 19])"
      ]
     },
     "execution_count": 13,
     "metadata": {},
     "output_type": "execute_result"
    }
   ],
   "source": [
    "S1 = np.arange(20)  # Possible prices of the asset at t=1\n",
    "S1"
   ]
  },
  {
   "cell_type": "code",
   "execution_count": 14,
   "metadata": {},
   "outputs": [
    {
     "data": {
      "text/plain": [
       "array([0, 0, 0, 0, 0, 0, 0, 0, 0, 0, 0, 1, 2, 3, 4, 5, 6, 7, 8, 9])"
      ]
     },
     "execution_count": 14,
     "metadata": {},
     "output_type": "execute_result"
    }
   ],
   "source": [
    "K = 10  # Strike price of the contingent claim C1 which is a call option.\n",
    "C1 = np.maximum(S1-K, 0)\n",
    "C1\n",
    "# As expected, positive payoffs start at S1 > K"
   ]
  },
  {
   "cell_type": "code",
   "execution_count": 15,
   "metadata": {},
   "outputs": [
    {
     "data": {
      "text/plain": [
       "<matplotlib.legend.Legend at 0x7f57f9f504f0>"
      ]
     },
     "execution_count": 15,
     "metadata": {},
     "output_type": "execute_result"
    },
    {
     "data": {
      "image/png": "[encoded data removed]",
      "text/plain": [
       "<Figure size 720x432 with 1 Axes>"
      ]
     },
     "metadata": {
      "needs_background": "light"
     },
     "output_type": "display_data"
    }
   ],
   "source": [
    "import matplotlib.pyplot as plt\n",
    "\n",
    "plt.figure(figsize = (10, 6))\n",
    "plt.style.use(\"seaborn\")\n",
    "plt.plot(S1, C1, lw = 3.0, label = \"$C_1 = max(S_0 - K, 0)$\")\n",
    "plt.ylabel(\"$C_1$ (Payoff at $t=1$)\")\n",
    "plt.xlabel(\"$S_1$ (Stock price at $t=1$)\")\n",
    "plt.legend()"
   ]
  },
  {
   "cell_type": "markdown",
   "metadata": {},
   "source": [
    "## Replication Portfolio ##"
   ]
  },
  {
   "cell_type": "markdown",
   "metadata": {},
   "source": [
    "If the payoff of a contingent claim $C_1 = (C_1^u, C_1^d)$ can be replicated by a linear combination of the payoff vectors of \\\n",
    "a bond $B$ and a stock $S$, then we say that contingent claim is *redundant*. To show it mathematically:\\\n",
    "\\\n",
    "$b \\begin{bmatrix} B_1 \\\\ B_1 \\end{bmatrix} + s \\begin{bmatrix} S_1^u \\\\ S_1^d \\end{bmatrix} = \\begin{bmatrix} C_1^u \\\\ C_1^d \\end{bmatrix}$ \\\n",
    "\\\n",
    "if the above equation is true, then we say the payoff of the contingent claim is redundant, because its payoff can already \\\n",
    "be replicated by a linear combination of the payoff vectors of the stock $S$ and the bond $B$."
   ]
  },
  {
   "cell_type": "markdown",
   "metadata": {},
   "source": [
    "The above problem can be represented as a system of equations. Assuming $S_1^u \\neq S_1^d$, then this is a linear system \\\n",
    "akin to $K \\underline{x} = \\underline{b}$ with a unique solution: \\\n",
    "\\\n",
    "$\\begin{bmatrix} B_1  S_1^u \\\\ B_1  S_1^d \\end{bmatrix} \\cdot \\begin{bmatrix} b \\\\ s \\end{bmatrix} = \\begin{bmatrix} C_1^u \\\\ C_1^d \\end{bmatrix} \\rightarrow M \\cdot \\phi = C_1$"
   ]
  },
  {
   "cell_type": "markdown",
   "metadata": {},
   "source": [
    "where the vector $\\phi = \\begin{bmatrix} b \\\\ s \\end{bmatrix}$ is a vector of coefficients (weights) of bond and stock, respectively."
   ]
  },
  {
   "cell_type": "code",
   "execution_count": 16,
   "metadata": {},
   "outputs": [
    {
     "data": {
      "text/plain": [
       "array([[11, 20],\n",
       "       [11,  5]])"
      ]
     },
     "execution_count": 16,
     "metadata": {},
     "output_type": "execute_result"
    }
   ],
   "source": [
    "B = (10, np.array((11, 11)))  # bond price at t=0 is 10, bond price at t=1 is 11 because bond is a riskless asset.\n",
    "S = (10, np.array((20, 5)))  # stock price at t=0 is 10, stock price at t=1 can either be 20 or 5.\n",
    "M = np.array((B[1], S[1])).T  # Combined payoff matrix for the bond and the stock\n",
    "M"
   ]
  },
  {
   "cell_type": "code",
   "execution_count": 17,
   "metadata": {},
   "outputs": [
    {
     "data": {
      "text/plain": [
       "array([5, 0])"
      ]
     },
     "execution_count": 17,
     "metadata": {},
     "output_type": "execute_result"
    }
   ],
   "source": [
    "K = 15  # strike price of the option\n",
    "C1 = np.maximum(S[1]-K, 0)\n",
    "C1  # payoff vector of the option"
   ]
  },
  {
   "cell_type": "code",
   "execution_count": 18,
   "metadata": {},
   "outputs": [
    {
     "data": {
      "text/plain": [
       "array([-0.15151515,  0.33333333])"
      ]
     },
     "execution_count": 18,
     "metadata": {},
     "output_type": "execute_result"
    }
   ],
   "source": [
    "phi = np.linalg.solve(M, C1)  # solve for the replication vector of coefficients\n",
    "phi\n",
    "# this shows short bond with a weight of -0.1515 and buy stock with a weight of 0.3333\n",
    "# and you have replicated the payoff of C1"
   ]
  },
  {
   "cell_type": "markdown",
   "metadata": {},
   "source": [
    "## Arbitrage Pricing ##"
   ]
  },
  {
   "cell_type": "markdown",
   "metadata": {},
   "source": [
    "The cost of the replication portfolio is: \\\n",
    "\\\n",
    "$V_0(\\phi) = \\phi \\cdot \\begin{bmatrix} B_0 \\\\ S_0 \\end{bmatrix}$ \\\n",
    "\\\n",
    "where \\\n",
    "\\\n",
    "$\\phi:$ weights (coefficients) vector \\\n",
    "$B_0:$ Price of the bond at $t=0$ \\\n",
    "$S_0:$ Price of the stock at $t=0$ "
   ]
  },
  {
   "cell_type": "code",
   "execution_count": 19,
   "metadata": {},
   "outputs": [
    {
     "name": "stdout",
     "output_type": "stream",
     "text": [
      "Value of the replication portfoilo at t=0: 1.8181818181818183\n"
     ]
    }
   ],
   "source": [
    "B0S0 = np.array((B[0], S[0]))\n",
    "\n",
    "price = np.dot(phi, B0S0)\n",
    "\n",
    "print(\"Value of the replication portfoilo at t=0:\", price)\n",
    "# Also called the arbitrage price of the contingent claim."
   ]
  },
  {
   "cell_type": "markdown",
   "metadata": {},
   "source": [
    "If the price of the replication portfolio at $t=0$ and the price of the contingent claim at $t=0$ are not equal, \\\n",
    "then we say there is an opportunity of **arbitrage** in the economy. Thus, the price of the contingent claim at $t=0$ \\\n",
    "must be equal to $1,8182$: the price of the replication portfolio."
   ]
  },
  {
   "cell_type": "markdown",
   "metadata": {},
   "source": [
    "If there is an arbitrage opportunity in the economy, then it is possible to sell a portfolio for profit at $t=0$ and have neutral payoffs $\\begin{bmatrix} 0 \\\\ 0 \\end{bmatrix}$ at $t=1$"
   ]
  },
  {
   "cell_type": "markdown",
   "metadata": {},
   "source": [
    "For example, suppose that the price of the call option $C$ at $t=0$ is $C_0 = 2$. Then we can construct the following negative-price replication portfolio today for a profit but do not have to pay anything at $t=1:$ \\\n",
    "\\\n",
    "$-C_1 + M \\phi^* = \\begin{bmatrix} 0 \\\\ 0 \\end{bmatrix} \\rightarrow$ This is the payoff at $t=1$ which is equal to $0$. \\\n",
    "\\\n",
    "$-C_0 + \\begin{bmatrix} B_0 \\\\ S_0 \\end{bmatrix} \\cdot \\phi^* = -0.1818 \\rightarrow$ This is the cost to construct the portfolio at $t=0$ which is negative. Thus, there is a risk-free profit in this economic model."
   ]
  },
  {
   "cell_type": "markdown",
   "metadata": {},
   "source": [
    "## Market Completeness ##"
   ]
  },
  {
   "cell_type": "markdown",
   "metadata": {},
   "source": [
    "If **every** contingent claim can be replicated by a portfolio consisting of the traded financial assets in the economy (in our case bond $B$ and stock $S$), then we can say that economy has a **complete market model**. Therefore, every contingent claim can be priced by replication and arbitrage."
   ]
  },
  {
   "cell_type": "markdown",
   "metadata": {},
   "source": [
    "This means in the system of equations \\\n",
    "\\\n",
    " $\\begin{bmatrix} B_1 S_1^u \\\\ B_1 S_1^d \\end{bmatrix} \\cdot \\begin{bmatrix} b \\\\ s \\end{bmatrix} = \\begin{bmatrix} C_1^u \\\\ C_1^d \\end{bmatrix} \\rightarrow M \\cdot \\phi = C_1$ \\\n",
    "\\\n",
    "the column vectors creating the matrix $M$ must be **linearly independent** ($S_1^u \\neq S_1^d$ in our case) so that there can be unique solutions for every contingent claim payoff vector $C_1 = \\begin{bmatrix} C_1^u \\\\ C_1^d \\end{bmatrix}$ \\\n",
    "\\\n",
    "and thus, the system $M \\cdot \\phi = \\begin{bmatrix} 0 \\\\ 0 \\end{bmatrix}$ must only have $\\phi^* = \\begin{bmatrix} 0 \\\\ 0 \\end{bmatrix}$ as a solution."
   ]
  },
  {
   "cell_type": "markdown",
   "metadata": {},
   "source": [
    "**In complete markets, any contingent claim $C$ has a unique solution $\\phi^*$ in a unique replication portfolio**."
   ]
  },
  {
   "cell_type": "markdown",
   "metadata": {},
   "source": [
    "Now let's try constructing unique replication portfolios for all possible contingent claims, with **no shorting allowed** *(positions are positive and add up to 1)*"
   ]
  },
  {
   "cell_type": "code",
   "execution_count": 20,
   "metadata": {},
   "outputs": [
    {
     "data": {
      "text/plain": [
       "array([0.83498163, 0.59655403, 0.28886324, 0.04295157, 0.9736544 ,\n",
       "       0.5964717 , 0.79026316, 0.91033938, 0.68815445, 0.18999147])"
      ]
     },
     "execution_count": 20,
     "metadata": {},
     "output_type": "execute_result"
    }
   ],
   "source": [
    "rng = np.random.default_rng(100)  # fix the seed for the random number generator\n",
    "n = 1000  # number of values to be simulated\n",
    "b = rng.uniform(0, 1, n)  # create a uniform[0, 1] array with length n\n",
    "b[:10]  # b is an array of weights of the bond."
   ]
  },
  {
   "cell_type": "code",
   "execution_count": 21,
   "metadata": {},
   "outputs": [
    {
     "data": {
      "text/plain": [
       "array([0.16501837, 0.40344597, 0.71113676, 0.95704843, 0.0263456 ,\n",
       "       0.4035283 , 0.20973684, 0.08966062, 0.31184555, 0.81000853])"
      ]
     },
     "execution_count": 21,
     "metadata": {},
     "output_type": "execute_result"
    }
   ],
   "source": [
    "s = 1-b\n",
    "s[:10]  # s is an array of weights of the stock."
   ]
  },
  {
   "cell_type": "code",
   "execution_count": 22,
   "metadata": {},
   "outputs": [
    {
     "data": {
      "text/plain": [
       "array([[12.48516533, 10.00988978],\n",
       "       [14.63101376,  8.57932416],\n",
       "       [17.40023082,  6.73317945],\n",
       "       ...,\n",
       "       [12.53069938,  9.97953375],\n",
       "       [19.74103643,  5.17264238],\n",
       "       [18.55379799,  5.96413468]])"
      ]
     },
     "execution_count": 22,
     "metadata": {},
     "output_type": "execute_result"
    }
   ],
   "source": [
    "B = (10, np.array((11, 11)))\n",
    "S = (10, np.array((20, 5)))\n",
    "\n",
    "def portfolio(b, s, B, S):\n",
    "    \"\"\"Constructs a portfolio which has a payoff vector b*B + s*S\n",
    "    and returns the payoff vector.\n",
    "\n",
    "    Args:\n",
    "        b (ndarray): array of weights of the bond\n",
    "        s (ndarray): array of weights of the stock\n",
    "        B (tuple): B[0] is the price of bond at t=0, B[1] is the possible payoff vector of bond at t=1\n",
    "        S (tuple): S[0] is the price of stock at t=0, S[1] is the possible payoff vector of stock at t=1\n",
    "    \n",
    "    Returns:\n",
    "        P (ndarray): Portfolio payoff vector at t=1\n",
    "    \"\"\"\n",
    "    \n",
    "    P = np.array([b[i]*B[1] + s[i]*S[1] for i in range(n)])\n",
    "    \n",
    "    return P\n",
    "\n",
    "A = portfolio(b, s, B, S)  # A comprises the payoffs of all the contingent claims that are replicable by trading the financial assets in the economy.\n",
    "A  # The first column A[:, 0] is the payoff in the up state, the second column A[:, 1] is the payoff in the down state."
   ]
  },
  {
   "cell_type": "code",
   "execution_count": 23,
   "metadata": {},
   "outputs": [
    {
     "data": {
      "text/plain": [
       "Text(0.5, 1.0, 'positions add up to 1, shorting NOT allowed')"
      ]
     },
     "execution_count": 23,
     "metadata": {},
     "output_type": "execute_result"
    },
    {
     "data": {
      "image/png": "[encoded data removed]",
      "text/plain": [
       "<Figure size 720x432 with 1 Axes>"
      ]
     },
     "metadata": {},
     "output_type": "display_data"
    }
   ],
   "source": [
    "plt.figure(figsize=(10, 6))\n",
    "plt.style.use(\"seaborn\")\n",
    "plt.plot(A[:, 0], A[:, 1], \"r.\", label=\"Each dot represents a payoff vector at $t=1$\")\n",
    "plt.legend()\n",
    "plt.title(\"positions add up to 1, shorting NOT allowed\")"
   ]
  },
  {
   "cell_type": "markdown",
   "metadata": {},
   "source": [
    "Here, we asserted portfolio positions (weights) add up to 1. However, if we put no boundary on the sum of the weights, then:"
   ]
  },
  {
   "cell_type": "code",
   "execution_count": 24,
   "metadata": {},
   "outputs": [
    {
     "data": {
      "text/plain": [
       "array([[19.86232075, 11.85417864],\n",
       "       [26.35796184, 11.51106118],\n",
       "       [11.64939184,  5.2954697 ],\n",
       "       ...,\n",
       "       [17.69705865, 11.27112357],\n",
       "       [ 5.67190743,  1.65536013],\n",
       "       [16.68660962,  5.49733758]])"
      ]
     },
     "execution_count": 24,
     "metadata": {},
     "output_type": "execute_result"
    }
   ],
   "source": [
    "s = rng.random(n)\n",
    "\n",
    "A = portfolio(b, s, B, S)\n",
    "A"
   ]
  },
  {
   "cell_type": "code",
   "execution_count": 25,
   "metadata": {},
   "outputs": [
    {
     "data": {
      "text/plain": [
       "Text(0.5, 1.0, 'positions may exceed 1, shorting NOT allowed')"
      ]
     },
     "execution_count": 25,
     "metadata": {},
     "output_type": "execute_result"
    },
    {
     "data": {
      "image/png": "[encoded data removed]",
      "text/plain": [
       "<Figure size 720x432 with 1 Axes>"
      ]
     },
     "metadata": {},
     "output_type": "display_data"
    }
   ],
   "source": [
    "plt.figure(figsize=(10, 6))\n",
    "plt.plot(A[:, 0], A[:, 1], \"r.\", label=\"Each dot represents a payoff vector at $t=1$\")\n",
    "plt.legend()\n",
    "plt.title(\"positions may exceed 1, shorting NOT allowed\")"
   ]
  },
  {
   "cell_type": "markdown",
   "metadata": {},
   "source": [
    "And moreover, if we add shorting:"
   ]
  },
  {
   "cell_type": "code",
   "execution_count": 26,
   "metadata": {},
   "outputs": [
    {
     "data": {
      "text/plain": [
       "Text(0.5, 1.0, 'positions may exceed 1, shorting allowed')"
      ]
     },
     "execution_count": 26,
     "metadata": {},
     "output_type": "execute_result"
    },
    {
     "data": {
      "image/png": "[encoded data removed]",
      "text/plain": [
       "<Figure size 720x432 with 1 Axes>"
      ]
     },
     "metadata": {},
     "output_type": "display_data"
    }
   ],
   "source": [
    "b = rng.standard_normal(n)\n",
    "s = rng.standard_normal(n)\n",
    "\n",
    "A = portfolio(b, s, B, S)\n",
    "plt.figure(figsize=(10, 6))\n",
    "plt.plot(A[:, 0], A[:, 1], \"r.\", label=\"Each dot represents a payoff vector at $t=1$\")\n",
    "plt.legend()\n",
    "plt.title(\"positions may exceed 1, shorting allowed\")"
   ]
  },
  {
   "cell_type": "markdown",
   "metadata": {},
   "source": [
    "If $b$ and $s$ were allowed to take *any* arbitrary value on the real line, then this scatter plot would span all $\\mathbb{R}^2$"
   ]
  },
  {
   "cell_type": "markdown",
   "metadata": {},
   "source": [
    "## Arrow-Debreu Securities ##"
   ]
  },
  {
   "cell_type": "markdown",
   "metadata": {},
   "source": [
    "An Arrow-Debreu is a special case of contingent claim which pays exactly 1 unit in a specified future state. For example, in a two-state economic model: \\\n",
    "\\\n",
    "$A_1 = \\begin{bmatrix} 1 \\\\ 0 \\end{bmatrix} \\rightarrow A_1$ is an Arrow-Debreu security which pays 1 unit at $t=1$ if the state is **up**. \\\n",
    "\\\n",
    "$A_2 = \\begin{bmatrix} 0 \\\\ 1 \\end{bmatrix} \\rightarrow A_2$ is an Arrow-Debreu security which pays 1 unit at $t=1$ if the state is **down**."
   ]
  },
  {
   "cell_type": "markdown",
   "metadata": {},
   "source": [
    "Then, the replication problem for the Arrow-Debreu securities are: \\\n",
    "\\\n",
    "$M \\cdot \\phi = \\begin{bmatrix} 1 \\\\ 0 \\end{bmatrix}$ \\\n",
    "\\\n",
    "and \\\n",
    "\\\n",
    "$M \\cdot \\phi = \\begin{bmatrix} 0 \\\\ 1 \\end{bmatrix}$"
   ]
  },
  {
   "cell_type": "markdown",
   "metadata": {},
   "source": [
    "Consider two Arrow-Debreu securities with following price processes: \\\n",
    "\\\n",
    "$\\gamma^u = (\\gamma_0^u, (1, 0)^T) \\rightarrow$ the payoff structure of $A_1$ which pays $1$ unit in the **up** state and pays $0$ unit in the **down** state at $t=1$ and has a price of $\\gamma_0^u$ at $t=0$ \\\n",
    "\\\n",
    "$\\gamma^d = (\\gamma_0^d, (1, 0)^T) \\rightarrow$ the payoff structure of $A_2$ which pays $0$ unit in the **up** state and pays $1$ unit in the **down** state at $t=1$ and has a price of $\\gamma_0^d$ at $t=0$"
   ]
  },
  {
   "cell_type": "markdown",
   "metadata": {},
   "source": [
    "Then we define $M^\\gamma$ which is a payoff matrix consisting of the payoffs of Arrow-Debreu securities from which we are going to replicate any contingent claim\n",
    "payoff at $t=1$ which is $C_1 = \\begin{bmatrix} C_1^u \\\\ C_1^d \\end{bmatrix}$. \\\n",
    "\\\n",
    "$M^\\gamma = \\begin{bmatrix} 1 & 0 \\\\ 0 & 1 \\end{bmatrix}$"
   ]
  },
  {
   "cell_type": "markdown",
   "metadata": {},
   "source": [
    "Then the replication problem is the following: \\\n",
    "\\\n",
    "$M^\\gamma \\cdot \\phi^* = C_1 \\rightarrow \\begin{bmatrix} 1 & 0 \\\\ 0 & 1 \\end{bmatrix} \\cdot \\phi^* = \\begin{bmatrix} C_1^u \\\\ C_1^d \\end{bmatrix}$"
   ]
  },
  {
   "cell_type": "markdown",
   "metadata": {},
   "source": [
    "And trivially, the solution is \\\n",
    "\\\n",
    "$\\phi^* = \\begin{bmatrix} C_1^u \\\\ C_1^d \\end{bmatrix}$"
   ]
  },
  {
   "cell_type": "markdown",
   "metadata": {},
   "source": [
    "As we can see, Arrow-Debreu securities simplify solving the replication problem of contingent claims."
   ]
  },
  {
   "cell_type": "markdown",
   "metadata": {},
   "source": [
    "## Martingale Pricing ##"
   ]
  },
  {
   "cell_type": "markdown",
   "metadata": {},
   "source": [
    "Martingale measure is a probability vector which makes the discounted expected value of the payoff vector of a risky stock equal to its current price $S_0:$ \\\n",
    "\\\n",
    "$S_0 = \\Large\\frac{1}{1+i} \\cdot \\small E^Q(S_1)$ where $E^Q(S_1) = (S_1^u, S_1^d) \\cdot (q, 1-q) = S_1 \\cdot Q$"
   ]
  },
  {
   "cell_type": "markdown",
   "metadata": {},
   "source": [
    "where, \\\n",
    "\\\n",
    "$E^Q(S_1):$ Expected value of the stock payoff at $t=1$ under the martingale probability measure $Q$ \\\n",
    "$S_1:$ payoff vector of the stock $S$ at $t=1$ \\\n",
    "$Q:$ martingale probability measure \\\n",
    "$i:$ interest rate where $i = \\large\\frac{B_1 - B_0}{B_0}$ holds true."
   ]
  },
  {
   "cell_type": "markdown",
   "metadata": {},
   "source": [
    "let $q \\equiv Q(u)$ where $q$ is the probability of the up state $q \\equiv P(${up state happens}$)$ and $(q, 1-q)$ is the martingale probability measure of our two-state economic model."
   ]
  },
  {
   "cell_type": "markdown",
   "metadata": {},
   "source": [
    "Then, because of our discounted price definition for martingale measure above, we get the following equation: \\\n",
    "\\\n",
    "$ q S_1^u + (1-q) S_1^d = E^Q(S_1) = S_0 (1+i)$"
   ]
  },
  {
   "cell_type": "markdown",
   "metadata": {},
   "source": [
    "after some simple algebra: \\\n",
    "\\\n",
    "$q = \\Large\\frac{S_0 \\cdot (1+i) - S_1^d}{S_1^u - S_1^d}$"
   ]
  },
  {
   "cell_type": "markdown",
   "metadata": {},
   "source": [
    "For $q$ to be a valid probability measure, $0 < q < 1$ must hold and therefore the following equation must also hold: \\\n",
    "\\\n",
    "$S_1^u > S_0 \\cdot (1+i) > S_1^d$"
   ]
  },
  {
   "cell_type": "markdown",
   "metadata": {},
   "source": [
    "If the above equations are not true, if for example $S_0 (1+i) \\le S_1^d$ then a simple arbitrage is to buy and hold the asset. \\\n",
    "On the other hand if $S_0 (1+i) \\ge S_1^u$ then a simple arbitrage is to short sell the asset at $t=0$ and cover the short at $t=1$."
   ]
  },
  {
   "cell_type": "markdown",
   "metadata": {},
   "source": [
    "If equality holds on the above relationships, for example if $S_0 (1+i) = S_1^d$ then there is a *weak arbitrage* or *statistical arbitrage* where buy-and-hold the stock $S$ is a risk-free trade on average but not always. And vica versa for shorting like above."
   ]
  },
  {
   "cell_type": "code",
   "execution_count": 27,
   "metadata": {},
   "outputs": [
    {
     "data": {
      "text/plain": [
       "0.1"
      ]
     },
     "execution_count": 27,
     "metadata": {},
     "output_type": "execute_result"
    }
   ],
   "source": [
    "# Calculation of risk-free interest rate from the payoff of the bond\n",
    "i = (B[1][1] - B[0]) / B[0]\n",
    "i"
   ]
  },
  {
   "cell_type": "code",
   "execution_count": 28,
   "metadata": {},
   "outputs": [
    {
     "data": {
      "text/plain": [
       "array([0.4, 0.6])"
      ]
     },
     "execution_count": 28,
     "metadata": {},
     "output_type": "execute_result"
    }
   ],
   "source": [
    "# Calculate martingale probability measure (q, 1-q)\n",
    "q = (S[0]*(1+i) - S[1][1]) / (S[1][0] - S[1][1])\n",
    "Q = np.array((q, 1-q))\n",
    "Q"
   ]
  },
  {
   "cell_type": "markdown",
   "metadata": {},
   "source": [
    "## First Fundamental Theorem of Asset Pricing (1FTAP) ##\n",
    "1) A martingale measure exists.\n",
    "2) The economy is arbitrage free."
   ]
  },
  {
   "cell_type": "markdown",
   "metadata": {},
   "source": [
    "## Pricing by Expectation ##"
   ]
  },
  {
   "cell_type": "markdown",
   "metadata": {},
   "source": [
    "We can price all of the contingent claims in a risk-free economy by discounting their expected payoffs according to the martingale probability at $t=1:$ \\\n",
    "\\\n",
    "$C_0 = \\Large\\frac{E^Q(C_1)}{1+i} = \\frac{Q \\cdot C_1}{1+i} $"
   ]
  },
  {
   "cell_type": "code",
   "execution_count": 29,
   "metadata": {},
   "outputs": [
    {
     "data": {
      "text/plain": [
       "1.8181818181818181"
      ]
     },
     "execution_count": 29,
     "metadata": {},
     "output_type": "execute_result"
    }
   ],
   "source": [
    "i = 0.1\n",
    "C1 = np.array((5, 0))\n",
    "Q = np.array((q, 1-q))\n",
    "martingale_C0 = np.dot(Q, C1) / (1+i)  # discounting expected cash flow according to martingale probability vector.\n",
    "martingale_C0  # martingale price is the same as arbitrage price, as expected."
   ]
  },
  {
   "cell_type": "markdown",
   "metadata": {},
   "source": [
    "## Second Fundamental Theorem of Asset Pricing (2FTAP) ##\n",
    "1) The martingale measure is unique.\n",
    "2) The market model is complete."
   ]
  },
  {
   "cell_type": "markdown",
   "metadata": {},
   "source": [
    "## Mean-Variance Portfolios ##"
   ]
  },
  {
   "cell_type": "markdown",
   "metadata": {},
   "source": [
    "The expected value (mean) of the portfolio payoff is equal to: \\\n",
    "\\\n",
    "$E[M \\cdot \\phi] = b \\cdot B_1 + s \\cdot E^P[S_1]$ \\\n",
    "\\\n",
    "where \\\n",
    "\\\n",
    "$E^P[S_1]:$ Expected value of the payoff vector of the stock $S$ at $t=1$."
   ]
  },
  {
   "cell_type": "markdown",
   "metadata": {},
   "source": [
    "Variance of the portfolio payoff is equal to: \\\n",
    "\\\n",
    "$\\sigma^2(M \\cdot \\phi) = \\sigma^2(s \\cdot S_1) = s^2 \\cdot \\sigma^2(S_1)$ \\\n",
    "\\\n",
    "because the payoff of the bond $B_1$ is a constant and thus has no contribution to the portfolio variance."
   ]
  },
  {
   "cell_type": "code",
   "execution_count": 30,
   "metadata": {},
   "outputs": [
    {
     "data": {
      "text/plain": [
       "array([[11, 20],\n",
       "       [11,  5]])"
      ]
     },
     "execution_count": 30,
     "metadata": {},
     "output_type": "execute_result"
    }
   ],
   "source": [
    "B = (10, np.array((11, 11)))\n",
    "S = (10, np.array((20, 5)))\n",
    "M = np.array((B[1], S[1])).T  # payoff matrix\n",
    "M"
   ]
  },
  {
   "cell_type": "code",
   "execution_count": 31,
   "metadata": {},
   "outputs": [
    {
     "data": {
      "text/plain": [
       "array([10, 10])"
      ]
     },
     "execution_count": 31,
     "metadata": {},
     "output_type": "execute_result"
    }
   ],
   "source": [
    "M0 = np.array((B[0], S[0]))  # price vector at t=0\n",
    "M0"
   ]
  },
  {
   "cell_type": "code",
   "execution_count": 32,
   "metadata": {},
   "outputs": [
    {
     "data": {
      "text/plain": [
       "array([[ 0.1,  1. ],\n",
       "       [ 0.1, -0.5]])"
      ]
     },
     "execution_count": 32,
     "metadata": {},
     "output_type": "execute_result"
    }
   ],
   "source": [
    "r = M / M0 - 1  # Rate of returns matrix\n",
    "r"
   ]
  },
  {
   "cell_type": "code",
   "execution_count": 33,
   "metadata": {},
   "outputs": [
    {
     "data": {
      "text/plain": [
       "array([0.5, 0.5])"
      ]
     },
     "execution_count": 33,
     "metadata": {},
     "output_type": "execute_result"
    }
   ],
   "source": [
    "P = np.array((0.5, 0.5))  # regular probability measure\n",
    "P"
   ]
  },
  {
   "cell_type": "code",
   "execution_count": 34,
   "metadata": {},
   "outputs": [
    {
     "data": {
      "text/plain": [
       "(0.44999999999999996, 0.55)"
      ]
     },
     "execution_count": 34,
     "metadata": {},
     "output_type": "execute_result"
    }
   ],
   "source": [
    "s = 0.55  # weight of the stock in portfolio\n",
    "b = 1-s  # weight of the bond in portfolio\n",
    "phi = (b, s)\n",
    "phi"
   ]
  },
  {
   "cell_type": "code",
   "execution_count": 35,
   "metadata": {},
   "outputs": [
    {
     "data": {
      "text/plain": [
       "0.18250000000000005"
      ]
     },
     "execution_count": 35,
     "metadata": {},
     "output_type": "execute_result"
    }
   ],
   "source": [
    "# Expected portfolio return\n",
    "weighted_payoff = np.dot(r, phi)  # rates of return vector with appropriate weights (b, s) \n",
    "mu = np.dot(P, weighted_payoff)\n",
    "mu  # expected rate of return of portfolio"
   ]
  },
  {
   "cell_type": "code",
   "execution_count": 36,
   "metadata": {},
   "outputs": [
    {
     "data": {
      "text/plain": [
       "0.41250000000000003"
      ]
     },
     "execution_count": 36,
     "metadata": {},
     "output_type": "execute_result"
    }
   ],
   "source": [
    "var = s**2 * r[:, 1].var()\n",
    "sigma = var ** 0.5\n",
    "sigma  # volatility of rate of returns. note that sigma lies between the volatility of the bond (0) and the volatility of the stock (0.75)"
   ]
  },
  {
   "cell_type": "code",
   "execution_count": 37,
   "metadata": {},
   "outputs": [
    {
     "data": {
      "text/plain": [
       "array([0.        , 0.04166667, 0.08333333, 0.125     , 0.16666667,\n",
       "       0.20833333, 0.25      , 0.29166667, 0.33333333, 0.375     ,\n",
       "       0.41666667, 0.45833333, 0.5       , 0.54166667, 0.58333333,\n",
       "       0.625     , 0.66666667, 0.70833333, 0.75      , 0.79166667,\n",
       "       0.83333333, 0.875     , 0.91666667, 0.95833333, 1.        ])"
      ]
     },
     "execution_count": 37,
     "metadata": {},
     "output_type": "execute_result"
    }
   ],
   "source": [
    "values = np.linspace(0, 1, 25)  # 25 linearly spaced points between 0 and 1\n",
    "values"
   ]
  },
  {
   "cell_type": "code",
   "execution_count": 38,
   "metadata": {},
   "outputs": [
    {
     "data": {
      "text/plain": [
       "<matplotlib.legend.Legend at 0x7f57f7bb7a30>"
      ]
     },
     "execution_count": 38,
     "metadata": {},
     "output_type": "execute_result"
    },
    {
     "data": {
      "image/png": "[encoded data removed]",
      "text/plain": [
       "<Figure size 720x432 with 1 Axes>"
      ]
     },
     "metadata": {},
     "output_type": "display_data"
    }
   ],
   "source": [
    "mu_array = []\n",
    "sigma_array = []\n",
    "R = np.array([(0.1, 1), (0.1, -0.5)])\n",
    "P = np.array((0.5, 0.5))\n",
    "for s in values:\n",
    "    phi = (1-s, s)\n",
    "    weighted_returns = np.dot(R, phi)\n",
    "    mu = np.dot(P, weighted_returns)\n",
    "    mu_array.append(mu)\n",
    "    \n",
    "    sigma = s * R[:, 1].std()\n",
    "    sigma_array.append(sigma)\n",
    "\n",
    "plt.figure(figsize=(10, 6))\n",
    "plt.style.use(\"seaborn\")\n",
    "plt.plot(values, mu_array, \"b-\", label = \"$\\mu_p$\")\n",
    "plt.plot(values, sigma_array, \"g--\", label = \"$\\sigma_p$\")\n",
    "plt.xlabel(\"Weight of the stock $s$\")\n",
    "plt.legend()"
   ]
  },
  {
   "cell_type": "code",
   "execution_count": 39,
   "metadata": {},
   "outputs": [
    {
     "data": {
      "text/plain": [
       "<matplotlib.legend.Legend at 0x7f57f7d097e0>"
      ]
     },
     "execution_count": 39,
     "metadata": {},
     "output_type": "execute_result"
    },
    {
     "data": {
      "image/png": "[encoded data removed]",
      "text/plain": [
       "<Figure size 720x432 with 1 Axes>"
      ]
     },
     "metadata": {},
     "output_type": "display_data"
    }
   ],
   "source": [
    "plt.figure(figsize=(10, 6))\n",
    "plt.style.use(\"seaborn\")\n",
    "plt.plot(sigma_array, mu_array, \"b-\", label=\"risk-return\")\n",
    "plt.xlabel(\"$\\sigma_p$\")\n",
    "plt.ylabel(\"$\\mu_p$\")\n",
    "plt.legend()"
   ]
  }
 ],
 "metadata": {
  "kernelspec": {
   "display_name": "Python 3",
   "language": "python",
   "name": "python3"
  },
  "language_info": {
   "codemirror_mode": {
    "name": "ipython",
    "version": 3
   },
   "file_extension": ".py",
   "mimetype": "text/x-python",
   "name": "python",
   "nbconvert_exporter": "python",
   "pygments_lexer": "ipython3",
   "version": "3.10.5"
  },
  "orig_nbformat": 4
 },
 "nbformat": 4,
 "nbformat_minor": 2
}
