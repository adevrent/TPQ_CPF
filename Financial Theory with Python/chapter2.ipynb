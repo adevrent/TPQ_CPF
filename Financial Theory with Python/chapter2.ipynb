{
 "cells": [
  {
   "cell_type": "code",
   "execution_count": 119,
   "metadata": {},
   "outputs": [
    {
     "name": "stdout",
     "output_type": "stream",
     "text": [
      "Payoff vector : (-10, 12)\n",
      "Net return: 2\n",
      "Final rate of return of our investment at t=1 : 0.2\n"
     ]
    }
   ],
   "source": [
    "# Calculating return\n",
    "c0 = -10  # cash outflow at t=0 is -10, meaning we invested 10.\n",
    "c1 = 12  # at t=1 we have a cash flow of 12 from our investment.\n",
    "\n",
    "c = (c0, c1)  # payoff vector of the investment at t=0 and t=1, respectively.\n",
    "\n",
    "R = c[0] + c[1]  # Net return in dollars.\n",
    "r = R / abs(c[0])  # Final rate of return is the sum of all cash flows (net return) divided by absolute value of the cash outflow at t=0.\n",
    "\n",
    "print(\"Payoff vector :\", c)\n",
    "print(\"Net return:\", R)\n",
    "print(\"Final rate of return of our investment at t=1 :\", r)"
   ]
  },
  {
   "cell_type": "markdown",
   "metadata": {},
   "source": [
    "## Present Value and Discounting ##"
   ]
  },
  {
   "cell_type": "markdown",
   "metadata": {},
   "source": [
    "Discounting can be defined as a function $D$ which maps a cash flow in one year in the future $c_1$ to an appropriate present value today. \\\n",
    "$D(c_1) = \\large\\frac{c_1}{1 + i} = c_0 $ \\\n",
    "\\\n",
    "and therefore, \\\n",
    "\\\n",
    "$c_1 = c_0(1+i) \\iff c_0 = \\large\\frac{c_1}{1 + i}$\n",
    "\\\n",
    "\\\n",
    "where $i$ is the interest rate."
   ]
  },
  {
   "cell_type": "code",
   "execution_count": 120,
   "metadata": {},
   "outputs": [],
   "source": [
    "c1 = 11  # cash flow in one year\n",
    "i = 0.1  # interest rate\n",
    "\n",
    "def D(c1, i):\n",
    "    \"\"\" Discounts cash flow in one year in the future to a present value today.\n",
    "\n",
    "    Args:\n",
    "        c1 (float): cash flow in one year\n",
    "        i (float): interest rate\n",
    "\n",
    "    Returns:\n",
    "        c0 (float): present value of the future cash flow c1\n",
    "    \"\"\"\n",
    "    c0 = c1/(1+i)\n",
    "    return c0"
   ]
  },
  {
   "cell_type": "code",
   "execution_count": 121,
   "metadata": {},
   "outputs": [
    {
     "data": {
      "text/plain": [
       "10.0"
      ]
     },
     "execution_count": 121,
     "metadata": {},
     "output_type": "execute_result"
    }
   ],
   "source": [
    "D(c1, i)  # present value of a cash flow of 11 is 10."
   ]
  },
  {
   "cell_type": "markdown",
   "metadata": {},
   "source": [
    "## Net Present Value ##"
   ]
  },
  {
   "cell_type": "markdown",
   "metadata": {},
   "source": [
    "Net Present Value (NPV) is equal to sum of the present value of all cash flows.\n",
    "\n",
    "$NPV(c) = c_0 + D(c_1)$ \\\n",
    "\\\n",
    "where \\\n",
    "\\\n",
    "$c$: vector of all cash flows. In our two-state economy it is $c = (c_0, c_1)$ \\\n",
    "$D(c_1)$: Discounted present value of the cash flow at $t=1$"
   ]
  },
  {
   "cell_type": "markdown",
   "metadata": {},
   "source": [
    "If the Net Present Value (NPV) of the cash flows of a project is **positive**, then \\\n",
    "that project should be conducted. However if NPV is negative, then it should **not** \\\n",
    "be conducted because the money would be better in a deposit earning interest $i$ ."
   ]
  },
  {
   "cell_type": "code",
   "execution_count": 122,
   "metadata": {},
   "outputs": [],
   "source": [
    "def NPV(c, i):\n",
    "    \"\"\"Calculates the net present value of a cash flow vector in a two-state economy.\n",
    "\n",
    "    Args:\n",
    "        c (tuple or list or ndarray): cash flow vector\n",
    "        i (float): interest rate\n",
    "\n",
    "    Returns:\n",
    "        npv (float): Net present value of all cash flows\n",
    "    \"\"\"\n",
    "    npv = c[0] + D(c[1], i)\n",
    "    \n",
    "    if npv > 0:\n",
    "        print(\"NPV is\", round(npv, 2), \"and postitive, so the project should be conducted.\")\n",
    "    else:\n",
    "        print(\"NPV is\", round(npv, 2), \"and negative, so the project should NOT be conducted.\")\n",
    "    return npv"
   ]
  },
  {
   "cell_type": "code",
   "execution_count": 123,
   "metadata": {},
   "outputs": [
    {
     "name": "stdout",
     "output_type": "stream",
     "text": [
      "NPV is 0.5 and postitive, so the project should be conducted.\n"
     ]
    },
    {
     "data": {
      "text/plain": [
       "0.4999999999999982"
      ]
     },
     "execution_count": 123,
     "metadata": {},
     "output_type": "execute_result"
    }
   ],
   "source": [
    "i = 0.1\n",
    "cA = (-10.5, 12.1)  # cash flow for project A\n",
    "cB = (-10.5, 11)  # cash flow for project B\n",
    "\n",
    "NPV(cA, i)"
   ]
  },
  {
   "cell_type": "code",
   "execution_count": 124,
   "metadata": {},
   "outputs": [
    {
     "name": "stdout",
     "output_type": "stream",
     "text": [
      "NPV is -0.5 and negative, so the project should NOT be conducted.\n"
     ]
    },
    {
     "data": {
      "text/plain": [
       "-0.5"
      ]
     },
     "execution_count": 124,
     "metadata": {},
     "output_type": "execute_result"
    }
   ],
   "source": [
    "NPV(cB, i)"
   ]
  },
  {
   "cell_type": "markdown",
   "metadata": {},
   "source": [
    "## Uncertainty ##"
   ]
  },
  {
   "cell_type": "markdown",
   "metadata": {},
   "source": [
    "If we add uncertainty to cash flows, let's say the future cash flow of $c_1$ has two possible states: **up** state or **down** state. \\\n",
    "Then, the cash flow $c_1$ at $t=1$ becomes a vector where it can take two values: $c_1^u$ if up state happens or $c_1^d$ if down state happens. \\\n",
    "\\\n",
    "$c_1 = \\large(c_1^u, c_1^d)$"
   ]
  },
  {
   "cell_type": "markdown",
   "metadata": {},
   "source": [
    "Example: consider an investment project where the investment at $t=0$ is a cash flow of $c_0 = -10$ and \\\n",
    "vector possible cash flows at $t=1$ is $c_1 = (20, 5)^T$ where the superscript $T$ means the vector $c_1$ is a **column** vector. \\\n",
    "\\\n",
    "**Important Note:** 1-dimensional ndarray objects do not distinguish between row or column vector !! (no need to transpose for 1d arrays)"
   ]
  },
  {
   "cell_type": "code",
   "execution_count": 125,
   "metadata": {},
   "outputs": [
    {
     "name": "stdout",
     "output_type": "stream",
     "text": [
      "(-10, array([20,  5]))\n"
     ]
    }
   ],
   "source": [
    "import numpy as np\n",
    "\n",
    "c0 = -10  # initial investment as the negative cashflow at t=0\n",
    "c1 = np.array((20, 5))  # vector of possible cash flows at t=1. 1-dimensional ndarray objects do not distinguish between row or column vector.\n",
    "\n",
    "c = (c0, c1)\n",
    "print(c)"
   ]
  },
  {
   "cell_type": "markdown",
   "metadata": {},
   "source": [
    "## Financial Assets ##"
   ]
  },
  {
   "cell_type": "markdown",
   "metadata": {},
   "source": [
    "Price process of a financial asset in a two-state economy can be defined as: \\\n",
    "\\\n",
    "$S = (S_0, S_1)$ \\\n",
    "\\\n",
    "where \\\n",
    "\\\n",
    "$S:$ Price process vector of the asset $S$ \\\n",
    "$S_0:$ Price of the asset at $t=0$, which is a real number (float).\\\n",
    "$S_1:$ Future price of the asset at $t=1$, which is a vector consisting of two possible states $S_1^u$ and $S_1^d$. $\\rightarrow$ $S_1 = (S_1^u, S_1^d)$"
   ]
  },
  {
   "cell_type": "markdown",
   "metadata": {},
   "source": [
    "## Probability ##"
   ]
  },
  {
   "cell_type": "markdown",
   "metadata": {},
   "source": [
    "Fixing a probability $p$ for a single state $c_1^u$ means we have a fully specified probability measure in our two-state economy \\\n",
    "(with probability $p$ we have the **up** state and with probability $1-p$ we have the **down** state) \\\n",
    "and this model economy is called *economy under risk*. On the contrary, an economic model that does not have a fully specified \\\n",
    "probability measure is often called *economy under ambiguity*."
   ]
  },
  {
   "cell_type": "code",
   "execution_count": 126,
   "metadata": {},
   "outputs": [
    {
     "name": "stdout",
     "output_type": "stream",
     "text": [
      "[0.4 0.6]\n",
      "<class 'numpy.ndarray'>\n"
     ]
    }
   ],
   "source": [
    "p = 0.4\n",
    "P = np.array((p, 1-p))  # Probability array for all states (in our case 2 states)\n",
    "print(P)\n",
    "print(type(P))"
   ]
  },
  {
   "cell_type": "markdown",
   "metadata": {},
   "source": [
    "## Expectation ##"
   ]
  },
  {
   "cell_type": "markdown",
   "metadata": {},
   "source": [
    "Expected value in a future state, in our model at $t=1$, is equal to probability weighted averages of the elements of vector $S_1:$ the asset price at $t=1$. \\\n",
    "\\\n",
    "let the price vector at $t=1:$\\\n",
    "$S_1 = (S_1^u, S_1^d)$ \\\n",
    "\\\n",
    "and the probability vector for $t=1:$\\\n",
    "$P = (p^u, p^d)$ \\\n",
    "\\\n",
    "then the expected value of the asset $S$ at time $t=1:$ \\\n",
    "$E[S_1] = \\begin{bmatrix} S_1^u \\\\ S_1^d \\end{bmatrix} * \\begin{bmatrix} p^u \\\\ p^d \\end{bmatrix} = S_1^u p^u + S_1^d p^d $"
   ]
  },
  {
   "cell_type": "code",
   "execution_count": 127,
   "metadata": {},
   "outputs": [
    {
     "data": {
      "text/plain": [
       "11.0"
      ]
     },
     "execution_count": 127,
     "metadata": {},
     "output_type": "execute_result"
    }
   ],
   "source": [
    "P = np.array((0.4, 0.6))  # Probability vector for t=1\n",
    "S0 = 10  # price of the asset S at t=0\n",
    "S1 = np.array((20, 5))  # Price vector for the asset S at t=1\n",
    "\n",
    "def ExpectedValue(S1, P):\n",
    "    assert S1.shape == P.shape\n",
    "    return np.dot(S1, P)\n",
    "\n",
    "ExpectedValue(S1, P)  # 0.4*20 + 0.6*5 = 11"
   ]
  },
  {
   "cell_type": "markdown",
   "metadata": {},
   "source": [
    "## Expected Return ##"
   ]
  },
  {
   "cell_type": "code",
   "execution_count": 128,
   "metadata": {},
   "outputs": [
    {
     "data": {
      "text/plain": [
       "1.0"
      ]
     },
     "execution_count": 128,
     "metadata": {},
     "output_type": "execute_result"
    }
   ],
   "source": [
    "def ExpectedReturn(S0, S1, P):\n",
    "    assert S1.shape == P.shape\n",
    "    return np.dot(S1, P) - S0\n",
    "\n",
    "ExpectedReturn(S0, S1, P)  # Expected return is 1"
   ]
  },
  {
   "cell_type": "markdown",
   "metadata": {},
   "source": [
    "## Expected Rate of Return ##"
   ]
  },
  {
   "cell_type": "markdown",
   "metadata": {},
   "source": [
    "Expected **rate** of return is usually symbolized by $\\mu:$ \\\n",
    "\\\n",
    "$\\mu = E[r] = \\large\\frac{E[R]}{S_0}$  where, \\\n",
    "\\\n",
    "$E[R]:$ Expected return \\\n",
    "$E[r]:$ Expected **rate** of return \\\n",
    "$S_0:$ price of the asset $S$ at $t=0$"
   ]
  },
  {
   "cell_type": "code",
   "execution_count": 129,
   "metadata": {},
   "outputs": [
    {
     "data": {
      "text/plain": [
       "0.1"
      ]
     },
     "execution_count": 129,
     "metadata": {},
     "output_type": "execute_result"
    }
   ],
   "source": [
    "def mu(S0, S1, P):\n",
    "    assert S1.shape == P.shape\n",
    "    return ExpectedReturn(S0, S1, P) / S0\n",
    "\n",
    "mu(S0, S1, P)"
   ]
  },
  {
   "cell_type": "markdown",
   "metadata": {},
   "source": [
    "## Volatility ##"
   ]
  },
  {
   "cell_type": "markdown",
   "metadata": {},
   "source": [
    "let $r:$ rate of return of a financial asset. According to our two-state economy model, the rate of return $r$ is a random variable \\\n",
    "whose value depends on if the up state or down state materializes. Previously we've shown that expected value of the rate of return \\\n",
    "is $E[r] = \\mu$ . Therefore, variance of the random variable $r$ is equal to: \\\n",
    "\\\n",
    "$var(r) = E[(r - \\mu)^2]$ \\\n",
    "\\\n",
    "and therefore volatility is\\\n",
    "\\\n",
    "$\\sigma_r = \\sqrt{E[(r - \\mu)^2]}$\n"
   ]
  },
  {
   "cell_type": "code",
   "execution_count": 131,
   "metadata": {},
   "outputs": [
    {
     "data": {
      "text/plain": [
       "0.7348469228349535"
      ]
     },
     "execution_count": 131,
     "metadata": {},
     "output_type": "execute_result"
    }
   ],
   "source": [
    "P = np.array((0.4, 0.6))  # Probability vector for t=1\n",
    "S0 = 10  # price of the asset S at t=0\n",
    "S1 = np.array((20, 5))  # Price vector for the asset S at t=1\n",
    "\n",
    "def sigma(S0, S1, P):\n",
    "    R_array = S1 - S0\n",
    "    r_array = R_array / S0\n",
    "    mu_r = mu(S0, S1, P)\n",
    "    temp = r_array - mu_r\n",
    "    myarray = np.power(temp, 2)\n",
    "    \n",
    "    varr = np.dot(myarray, P)\n",
    "    volr = np.sqrt(varr)\n",
    "    \n",
    "    return volr\n",
    "\n",
    "sigma(S0, S1, P)"
   ]
  },
  {
   "cell_type": "markdown",
   "metadata": {},
   "source": [
    "## Contingent Claims ##"
   ]
  },
  {
   "cell_type": "code",
   "execution_count": null,
   "metadata": {},
   "outputs": [],
   "source": [
    "S1 = np.arange(20)"
   ]
  }
 ],
 "metadata": {
  "kernelspec": {
   "display_name": "Python 3",
   "language": "python",
   "name": "python3"
  },
  "language_info": {
   "codemirror_mode": {
    "name": "ipython",
    "version": 3
   },
   "file_extension": ".py",
   "mimetype": "text/x-python",
   "name": "python",
   "nbconvert_exporter": "python",
   "pygments_lexer": "ipython3",
   "version": "3.10.5"
  },
  "orig_nbformat": 4
 },
 "nbformat": 4,
 "nbformat_minor": 2
}
