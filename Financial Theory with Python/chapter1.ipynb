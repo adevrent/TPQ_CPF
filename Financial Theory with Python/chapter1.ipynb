{
 "cells": [
  {
   "cell_type": "markdown",
   "metadata": {},
   "source": [
    "let $S$ a stock which has 2 possible payoffs in the future, 20 or 5: \\\n",
    "\\\n",
    "$S = \\begin{pmatrix} 20\\\\5 \\end{pmatrix}$"
   ]
  },
  {
   "cell_type": "markdown",
   "metadata": {},
   "source": [
    "let $C$ a call option on $S$ with a strike price of $K = 15$. Then the future payoff vector of the option $C$ is: \\\n",
    "\\\n",
    "$C = \\begin{pmatrix} max(20 - 15, 0)\\\\max(5 - 15, 0) \\end{pmatrix} = \\begin{pmatrix} 5\\\\0 \\end{pmatrix} $"
   ]
  },
  {
   "cell_type": "code",
   "execution_count": 3,
   "metadata": {},
   "outputs": [
    {
     "name": "stdout",
     "output_type": "stream",
     "text": [
      "type of C: <class 'numpy.ndarray'>\n",
      "C = [5 0]\n",
      "Shape of C = (2,)\n"
     ]
    }
   ],
   "source": [
    "import numpy as np\n",
    "\n",
    "v1 = 5\n",
    "v2 = 0\n",
    "\n",
    "C = np.array((5, 0))\n",
    "\n",
    "print(\"type of C:\", type(C))\n",
    "print(\"C =\", C)\n",
    "print(\"Shape of C =\", C.shape)"
   ]
  },
  {
   "cell_type": "code",
   "execution_count": 19,
   "metadata": {},
   "outputs": [],
   "source": [
    "# Start with stock\n",
    "S = np.array((20, 5, 35))\n",
    "K = 15\n",
    "\n",
    "def OptionPayoff(S, K):\n",
    "    \"\"\"Calculates and returns  future payoff vector of a call option\n",
    "\n",
    "    Args:\n",
    "        S (ndarray): Future payoff vector of the stock.\n",
    "        K (float): Strike price of the option.\n",
    "\n",
    "    Returns:\n",
    "        C(ndarray): Future payoff matrix of the call option.\n",
    "    \"\"\"\n",
    "    K_array = np.array([K] * len(S))\n",
    "    C = np.maximum(S - K, 0)  # native python .max() does NOT work here!! use np.maximum !!\n",
    "    return C"
   ]
  },
  {
   "cell_type": "code",
   "execution_count": 20,
   "metadata": {},
   "outputs": [
    {
     "data": {
      "text/plain": [
       "array([ 5,  0, 20])"
      ]
     },
     "execution_count": 20,
     "metadata": {},
     "output_type": "execute_result"
    }
   ],
   "source": [
    "OptionPayoff(S, K)"
   ]
  }
 ],
 "metadata": {
  "kernelspec": {
   "display_name": "Python 3",
   "language": "python",
   "name": "python3"
  },
  "language_info": {
   "codemirror_mode": {
    "name": "ipython",
    "version": 3
   },
   "file_extension": ".py",
   "mimetype": "text/x-python",
   "name": "python",
   "nbconvert_exporter": "python",
   "pygments_lexer": "ipython3",
   "version": "3.10.5"
  },
  "orig_nbformat": 4
 },
 "nbformat": 4,
 "nbformat_minor": 2
}
