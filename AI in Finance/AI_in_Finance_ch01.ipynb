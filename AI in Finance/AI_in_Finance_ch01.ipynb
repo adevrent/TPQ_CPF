{
 "cells": [
  {
   "cell_type": "code",
   "execution_count": 22,
   "metadata": {},
   "outputs": [],
   "source": [
    "import numpy as np"
   ]
  },
  {
   "cell_type": "code",
   "execution_count": 23,
   "metadata": {},
   "outputs": [],
   "source": [
    "ssp = [1, 1, 1, 1, 0]  # state space\n",
    "asp = [1, 0]  # action space (bet on heads or tails)\n",
    "\n",
    "def epoch():\n",
    "    tr = 0  # total reward is instantiated as 0 at the start of epoch.\n",
    "    for _ in range(100):  # each epoch is 100 rounds of bets\n",
    "        a = np.random.choice(asp)  # an \"action\" is randomly chosen from action space (bet is done)\n",
    "        s = np.random.choice(ssp)  # a \"state\" is randomly chosen from state space\n",
    "        # If the chosen bet is the same as state, increase total reward by 1\n",
    "        if a == s:\n",
    "            tr += 1\n",
    "    return tr  # returns the total reward"
   ]
  },
  {
   "cell_type": "code",
   "execution_count": 24,
   "metadata": {},
   "outputs": [
    {
     "name": "stdout",
     "output_type": "stream",
     "text": [
      "rl array = [55 50 50 54 56 49 52 50 43 46 47 56 47 49 53]\n",
      "rl mean = 50.46666666666667\n"
     ]
    }
   ],
   "source": [
    "rl = np.array([epoch() for _ in range(15)])  # play 15 epochs and store the results\n",
    "print(\"rl array =\", rl)\n",
    "print(\"rl mean =\", rl.mean())  # total reward is generally around 50"
   ]
  },
  {
   "cell_type": "markdown",
   "metadata": {},
   "source": [
    "By adding the observed state to the action space, we get a better frequency of correct bets:"
   ]
  },
  {
   "cell_type": "code",
   "execution_count": 27,
   "metadata": {},
   "outputs": [],
   "source": [
    "def epoch():\n",
    "    tr = 0\n",
    "    asp = [0, 1]\n",
    "    for _ in range(100):\n",
    "        s = np.random.choice(ssp)\n",
    "        a = np.random.choice(asp)\n",
    "        if a == s:\n",
    "            tr += 1\n",
    "        asp.append(s)\n",
    "            \n",
    "    return tr"
   ]
  },
  {
   "cell_type": "code",
   "execution_count": 42,
   "metadata": {},
   "outputs": [
    {
     "name": "stdout",
     "output_type": "stream",
     "text": [
      "rl array = [58 65 60 59 63 62 58 70 58 72 67 64 74 68 75]\n",
      "rl mean = 64.86666666666666\n"
     ]
    }
   ],
   "source": [
    "rl = np.array([epoch() for _ in range(15)])  # play 15 epochs and store the results\n",
    "print(\"rl array =\", rl)\n",
    "print(\"rl mean =\", rl.mean())  # total reward is generally around 50"
   ]
  }
 ],
 "metadata": {
  "kernelspec": {
   "display_name": "Python 3",
   "language": "python",
   "name": "python3"
  },
  "language_info": {
   "codemirror_mode": {
    "name": "ipython",
    "version": 3
   },
   "file_extension": ".py",
   "mimetype": "text/x-python",
   "name": "python",
   "nbconvert_exporter": "python",
   "pygments_lexer": "ipython3",
   "version": "3.10.5"
  }
 },
 "nbformat": 4,
 "nbformat_minor": 2
}
