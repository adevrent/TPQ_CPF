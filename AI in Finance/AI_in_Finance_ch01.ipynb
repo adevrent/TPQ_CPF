{
 "cells": [
  {
   "cell_type": "code",
   "execution_count": 1,
   "metadata": {},
   "outputs": [],
   "source": [
    "import numpy as np"
   ]
  },
  {
   "cell_type": "code",
   "execution_count": 14,
   "metadata": {},
   "outputs": [],
   "source": [
    "ssp = [1, 1, 1, 1, 0]  # state space\n",
    "asp = [1, 0]  # action space (bet on heads or tails)\n",
    "\n",
    "def epoch():\n",
    "    tr = 0  # total reward is instantiated as 0 at the start of epoch.\n",
    "    for _ in range(100):  # each epoch is 100 rounds of bets\n",
    "        a = np.random.choice(asp)  # an \"action\" is randomly chosen from action space (bet is done)\n",
    "        s = np.random.choice(ssp)  # a \"state\" is randomly chosen from state space\n",
    "        # If the chosen bet is the same as state, increase total reward by 1\n",
    "        if a == s:\n",
    "            tr += 1\n",
    "    return tr  # returns the total reward"
   ]
  },
  {
   "cell_type": "code",
   "execution_count": 15,
   "metadata": {},
   "outputs": [
    {
     "name": "stdout",
     "output_type": "stream",
     "text": [
      "rl array = [44 54 48 52 52 58 57 42 49 46 34 61 52 58 47]\n",
      "rl mean = 50.266666666666666\n"
     ]
    }
   ],
   "source": [
    "rl = np.array([epoch() for _ in range(15)])  # play 15 epochs and store the results\n",
    "print(\"rl array =\", rl)\n",
    "print(\"rl mean =\", rl.mean())  # total reward is generally around 50"
   ]
  }
 ],
 "metadata": {
  "kernelspec": {
   "display_name": "Python 3",
   "language": "python",
   "name": "python3"
  },
  "language_info": {
   "codemirror_mode": {
    "name": "ipython",
    "version": 3
   },
   "file_extension": ".py",
   "mimetype": "text/x-python",
   "name": "python",
   "nbconvert_exporter": "python",
   "pygments_lexer": "ipython3",
   "version": "3.10.5"
  }
 },
 "nbformat": 4,
 "nbformat_minor": 2
}
