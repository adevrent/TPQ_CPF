{
 "cells": [
  {
   "cell_type": "markdown",
   "metadata": {},
   "source": [
    "<img src='http://hilpisch.com/tpq_logo.png' width=\"350px\" align=\"right\">"
   ]
  },
  {
   "cell_type": "markdown",
   "metadata": {},
   "source": [
    "# Certificate Programs\n",
    "\n",
    "**Tutorial 01**"
   ]
  },
  {
   "cell_type": "markdown",
   "metadata": {},
   "source": [
    "&copy; Dr. Yves J. Hilpisch | The Python Quants GmbH\n",
    "\n",
    "http://tpq.io | [training@tpq.io](mailto:trainin@tpq.io) | [@dyjh](http://twitter.com/dyjh)"
   ]
  },
  {
   "cell_type": "markdown",
   "metadata": {},
   "source": [
    "## Finance with Python"
   ]
  },
  {
   "cell_type": "markdown",
   "metadata": {},
   "source": [
    "**Arbitrage Pricing**\n",
    "\n",
    "Assume two traded assets are given, a risky one (stock) and a risk-less one (bond), with prices $S_0=10, B_0=1$. Their future payoffs are:\n",
    "\n",
    "$$S_1 = \\left( \\begin{array}{c} 15 \\\\ 5 \\end{array} \\right)$$\n",
    "\n",
    "$$B_1 = \\left( \\begin{array}{c} 1.01 \\\\ 1.01 \\end{array} \\right)$$\n",
    "\n",
    "A European put option is introduced to the market with payoff:\n",
    "\n",
    "$$P_1 = \\left( \\begin{array}{c} 0 \\\\ 3 \\end{array} \\right)$$\n",
    "\n",
    "Questions:\n",
    "\n",
    "* What is the strike price of the put option?\n",
    "* Which portfolio replicates the put option payoff perfectly?\n",
    "* Is there a difference when using OLS regression for the replication?\n",
    "* How can a learning algorithm be used to replicate the payoff?"
   ]
  },
  {
   "cell_type": "markdown",
   "metadata": {},
   "source": [
    "**Expected Utility Maximization**\n",
    "\n",
    "Consider now an expected utility maximizing investor with a Bernoulli utility function of:\n",
    "\n",
    "$$u(w) = \\log(w)$$\n",
    "\n",
    "The investor's initial endowment is $w_0=10$. The investor is not allowed to do short sales. Assume a physical probability measure of $P=(0.75, 0.25)^T$.\n",
    "\n",
    "* What is the optimal portfolio of the investor when she can only invest in **the stock and the bond**?\n",
    "* What is the optimal portfolio of the investor when she can only invest in **the stock and the option**?\n",
    "* What is the optimal portfolio of the investor when she can only invest in **the bond and the option**?"
   ]
  },
  {
   "cell_type": "markdown",
   "metadata": {},
   "source": [
    "## Tools & Skills"
   ]
  },
  {
   "cell_type": "markdown",
   "metadata": {},
   "source": [
    "**Python Environment**\n",
    "\n",
    "Create a new Python environment using `conda` with `python=3.7` and name it `certex`.\n",
    "\n",
    "Install the following packages: `ipython`, `numpy`, `pandas`, `matplotlib`.\n",
    "\n",
    "Activate the environment.\n",
    "\n",
    "Start `IPython`.\n",
    "\n",
    "Calculate `3 ** 10`.\n",
    "\n",
    "Close `IPython`.\n",
    "\n",
    "List all packages in the environment.\n",
    "\n",
    "Remove the `matplotlib` package.\n",
    "\n",
    "Deactivate the environment.\n",
    "\n",
    "List all environments on you machine.\n",
    "\n",
    "Remove the environment from your machine."
   ]
  },
  {
   "cell_type": "markdown",
   "metadata": {},
   "source": [
    "## Financial Data Science"
   ]
  },
  {
   "cell_type": "markdown",
   "metadata": {},
   "source": [
    "**Data Types**\n",
    "\n",
    "Answer the following questions.\n",
    "\n",
    "* What are these data types used for? &mdash; `int`, `float`, `str`\n",
    "* Under what circumstances can these be transformed into each other and how?\n",
    "* What are typical methods that can be called on the three data types?\n",
    "\n",
    "It is said that Python can work with **_arbitrarily large integers_** and **_arbitrarily precise floating point numbers_**.\n",
    "\n",
    "* Are these statements true?\n",
    "* Which examples can support your answers?"
   ]
  },
  {
   "cell_type": "markdown",
   "metadata": {},
   "source": [
    "## AI in Finance"
   ]
  },
  {
   "cell_type": "markdown",
   "metadata": {},
   "source": [
    "Explain in your own words the following concepts:\n",
    "\n",
    "* Artificial Intelligence\n",
    "* Reinforcement Learning\n",
    "* Technological Singularity\n",
    "* Financial Singularity\n",
    "* Data-Driven Finance\n",
    "* AI-First Finance\n",
    "* Machine Learning\n",
    "* Algorithmic Trading"
   ]
  },
  {
   "cell_type": "markdown",
   "metadata": {},
   "source": [
    "## Test Project"
   ]
  },
  {
   "cell_type": "markdown",
   "metadata": {},
   "source": [
    "Implement the following game:\n",
    "\n",
    "* a random number is drawn between 1 and 100\n",
    "* the user is asked to provide a guess for the number\n",
    "* it is checked whether the number is too low, too high or exactly right\n",
    "* the user is provided with feedback about the result\n",
    "* the game ends when the user has come up with the correct number\n",
    "* the user is informed about the number of guesses needed"
   ]
  },
  {
   "cell_type": "markdown",
   "metadata": {},
   "source": [
    "<img src=\"http://hilpisch.com/tpq_logo.png\" alt=\"The Python Quants\" width=\"35%\" align=\"right\" border=\"0\"><br>\n",
    "\n",
    "<a href=\"http://tpq.io\" target=\"_blank\">http://tpq.io</a> | <a href=\"http://twitter.com/dyjh\" target=\"_blank\">@dyjh</a> | <a href=\"mailto:training@tpq.io\">training@tpq.io</a>"
   ]
  }
 ],
 "metadata": {
  "kernelspec": {
   "display_name": "Python 3",
   "language": "python",
   "name": "python3"
  },
  "language_info": {
   "codemirror_mode": {
    "name": "ipython",
    "version": 3
   },
   "file_extension": ".py",
   "mimetype": "text/x-python",
   "name": "python",
   "nbconvert_exporter": "python",
   "pygments_lexer": "ipython3",
   "version": "3.6.8"
  }
 },
 "nbformat": 4,
 "nbformat_minor": 2
}
